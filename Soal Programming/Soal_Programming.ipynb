{
  "nbformat": 4,
  "nbformat_minor": 0,
  "metadata": {
    "colab": {
      "name": "Soal Programming",
      "provenance": []
    },
    "kernelspec": {
      "name": "python3",
      "display_name": "Python 3"
    },
    "language_info": {
      "name": "python"
    }
  },
  "cells": [
    {
      "cell_type": "code",
      "metadata": {
        "colab": {
          "base_uri": "https://localhost:8080/"
        },
        "id": "bpsOtC7dv3gx",
        "outputId": "8de785e7-97a5-4315-e38b-2e13d30f3702"
      },
      "source": [
        "print('Masukkan bilangan antara 1-20:')\n",
        "x = input()\n",
        "x = int(x)\n",
        "\n",
        "if x < 1 or x > 20:\n",
        "  print(\"Angka harus berada di antara 1-20\")\n",
        "\n",
        "elif x > 9:\n",
        "  print(\"Apa?\")\n",
        "\n",
        "else:\n",
        "  for num in range(x):\n",
        "    print(*range(1,x), \"hop!\")"
      ],
      "execution_count": null,
      "outputs": [
        {
          "output_type": "stream",
          "name": "stdout",
          "text": [
            "Masukkan bilangan antara 1-20:\n",
            "5\n",
            "1 2 3 4 hop!\n",
            "1 2 3 4 hop!\n",
            "1 2 3 4 hop!\n",
            "1 2 3 4 hop!\n",
            "1 2 3 4 hop!\n"
          ]
        }
      ]
    },
    {
      "cell_type": "code",
      "metadata": {
        "colab": {
          "base_uri": "https://localhost:8080/"
        },
        "id": "E3DUX-iTzlxZ",
        "outputId": "5b50741e-2365-41b2-f775-6595bb8cdf95"
      },
      "source": [
        "import re\n",
        "\n",
        "print('Masukkan sebuah kata atau kumpulan kata:')\n",
        "kata = input()\n",
        "\n",
        "kata = kata.replace(\" \", \"\")\n",
        "regex = \"[^a-z]\"\n",
        "kata = re.sub(regex, \"\", kata)\n",
        "\n",
        "len(set(kata))"
      ],
      "execution_count": null,
      "outputs": [
        {
          "name": "stdout",
          "output_type": "stream",
          "text": [
            "Masukkan sebuah kata atau kumpulan kata:\n",
            "Hi\n"
          ]
        },
        {
          "output_type": "execute_result",
          "data": {
            "text/plain": [
              "1"
            ]
          },
          "metadata": {},
          "execution_count": 20
        }
      ]
    }
  ]
}